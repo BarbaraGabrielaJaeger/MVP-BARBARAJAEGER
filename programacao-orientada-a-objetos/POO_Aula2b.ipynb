{
  "nbformat": 4,
  "nbformat_minor": 0,
  "metadata": {
    "colab": {
      "provenance": [],
      "toc_visible": true,
      "authorship_tag": "ABX9TyMU+TqyY/pZF2Tj7b5Uqgli",
      "include_colab_link": true
    },
    "kernelspec": {
      "name": "python3",
      "display_name": "Python 3"
    },
    "language_info": {
      "name": "python"
    }
  },
  "cells": [
    {
      "cell_type": "markdown",
      "metadata": {
        "id": "view-in-github",
        "colab_type": "text"
      },
      "source": [
        "<a href=\"https://colab.research.google.com/github/dipucriodigital/engenharia-de-software/blob/main/programacao-orientada-a-objetos/POO_Aula2b.ipynb\" target=\"_parent\"><img src=\"https://colab.research.google.com/assets/colab-badge.svg\" alt=\"Open In Colab\"/></a>"
      ]
    },
    {
      "cell_type": "markdown",
      "source": [
        "# Programação Orientada a Objetos - Prof. Tatiana Escovedo\n",
        "\n",
        "---\n",
        "\n",
        "## Aula 02: Os 4 pilares da Orientação a Objetos\n",
        "### Prática 4"
      ],
      "metadata": {
        "id": "nPMIS6Pb98p9"
      }
    },
    {
      "cell_type": "markdown",
      "source": [
        "## Intodução à Orientação a Objetos"
      ],
      "metadata": {
        "id": "jyZvpuhTUcX7"
      }
    },
    {
      "cell_type": "code",
      "source": [
        "class Pessoa:\n",
        "\n",
        "    def __init__(self, nome):\n",
        "        self.nome = nome\n",
        "    def __str__(self):\n",
        "        return self.nome\n",
        "\n",
        "pessoa_1 = Pessoa(\"João\")\n",
        "print(pessoa_1)\n",
        "\n",
        "pessoa_2 = Pessoa(\"Maria\")\n",
        "print(pessoa_2)"
      ],
      "metadata": {
        "id": "cDx4AzqGUcyW"
      },
      "execution_count": null,
      "outputs": []
    },
    {
      "cell_type": "code",
      "source": [
        "class ListaDeNumeros:\n",
        "\n",
        "    def __init__(self, numeros):\n",
        "        self.numeros = numeros\n",
        "    def __str__(self):\n",
        "        return \", \".join([str(n) for n in self.numeros])\n",
        "    def soma(self):\n",
        "        return sum(self.numeros)\n",
        "    def media(self):\n",
        "        return self.soma()/len(self.numeros)\n",
        "\n",
        "minha_lista = ListaDeNumeros([1,3,5,7,9])\n",
        "\n",
        "print(f\"A soma de {minha_lista} é {minha_lista.soma()}\")\n",
        "print(f\"A média de {minha_lista} é {minha_lista.media()}\")"
      ],
      "metadata": {
        "id": "qAuW_SfsUjfN"
      },
      "execution_count": null,
      "outputs": []
    },
    {
      "cell_type": "code",
      "source": [
        "class Pessoa:\n",
        "    \n",
        "    num_pessoas = 0\n",
        "\n",
        "    def __init__(self, nome):\n",
        "        self.nome = nome\n",
        "        Pessoa.num_pessoas +=1\n",
        "\n",
        "nomes = ['João', 'Paulo', 'George', 'Ringo']\n",
        "pessoas = [Pessoa(nome) for nome in nomes]\n",
        "\n",
        "Pessoa.num_pessoas\n",
        "\n",
        "pessoas[0].nome"
      ],
      "metadata": {
        "id": "ZjQRVzAOUmRy"
      },
      "execution_count": null,
      "outputs": []
    },
    {
      "cell_type": "code",
      "source": [
        "class Calculadora:\n",
        "    \n",
        "    def soma(self, a, b):\n",
        "        res = a + b\n",
        "        return res\n",
        "\n",
        "calculadora = Calculadora()\n",
        "calculadora.soma(2,3)"
      ],
      "metadata": {
        "id": "nQNEuCapUo3-"
      },
      "execution_count": null,
      "outputs": []
    },
    {
      "cell_type": "markdown",
      "source": [
        "## Encapsulamento"
      ],
      "metadata": {
        "id": "YfeMVy_-u45n"
      }
    },
    {
      "cell_type": "code",
      "execution_count": null,
      "metadata": {
        "colab": {
          "base_uri": "https://localhost:8080/"
        },
        "id": "ttI8wa_ys9pF",
        "outputId": "9505cbd3-d248-44b7-a14d-5f70ae339aaf"
      },
      "outputs": [
        {
          "output_type": "execute_result",
          "data": {
            "text/plain": [
              "1234"
            ]
          },
          "metadata": {},
          "execution_count": 2
        }
      ],
      "source": [
        "class Conta:\n",
        "    \n",
        "    def __init__(self, numero, saldo):\n",
        "        self.numero = numero\n",
        "        self.__saldo = saldo\n",
        "\n",
        "conta1234 = Conta(1234, 750.84)\n",
        "conta1234.numero"
      ]
    },
    {
      "cell_type": "code",
      "source": [
        "conta1234.__saldo"
      ],
      "metadata": {
        "colab": {
          "base_uri": "https://localhost:8080/",
          "height": 166
        },
        "id": "VtO6GDl4tgVv",
        "outputId": "dd3f3d46-bb0c-4119-c803-184e8505fa23"
      },
      "execution_count": null,
      "outputs": [
        {
          "output_type": "error",
          "ename": "AttributeError",
          "evalue": "ignored",
          "traceback": [
            "\u001b[0;31m---------------------------------------------------------------------------\u001b[0m",
            "\u001b[0;31mAttributeError\u001b[0m                            Traceback (most recent call last)",
            "\u001b[0;32m<ipython-input-3-8a0b030f5094>\u001b[0m in \u001b[0;36m<module>\u001b[0;34m()\u001b[0m\n\u001b[0;32m----> 1\u001b[0;31m \u001b[0mconta1234\u001b[0m\u001b[0;34m.\u001b[0m\u001b[0m__saldo\u001b[0m\u001b[0;34m\u001b[0m\u001b[0;34m\u001b[0m\u001b[0m\n\u001b[0m",
            "\u001b[0;31mAttributeError\u001b[0m: 'Conta' object has no attribute '__saldo'"
          ]
        }
      ]
    },
    {
      "cell_type": "code",
      "source": [
        "conta1234._Conta__saldo"
      ],
      "metadata": {
        "colab": {
          "base_uri": "https://localhost:8080/"
        },
        "id": "fFhQ25KZtjpa",
        "outputId": "4ab9b589-f856-4ccd-c272-4bec974f788c"
      },
      "execution_count": null,
      "outputs": [
        {
          "output_type": "execute_result",
          "data": {
            "text/plain": [
              "750.84"
            ]
          },
          "metadata": {},
          "execution_count": 4
        }
      ]
    },
    {
      "cell_type": "code",
      "source": [
        "dir(conta1234)"
      ],
      "metadata": {
        "colab": {
          "base_uri": "https://localhost:8080/"
        },
        "id": "YorKSJWntoXr",
        "outputId": "5be5d2da-5b3f-4690-8229-20d83ef58e2e"
      },
      "execution_count": null,
      "outputs": [
        {
          "output_type": "execute_result",
          "data": {
            "text/plain": [
              "['_Conta__saldo',\n",
              " '__class__',\n",
              " '__delattr__',\n",
              " '__dict__',\n",
              " '__dir__',\n",
              " '__doc__',\n",
              " '__eq__',\n",
              " '__format__',\n",
              " '__ge__',\n",
              " '__getattribute__',\n",
              " '__gt__',\n",
              " '__hash__',\n",
              " '__init__',\n",
              " '__init_subclass__',\n",
              " '__le__',\n",
              " '__lt__',\n",
              " '__module__',\n",
              " '__ne__',\n",
              " '__new__',\n",
              " '__reduce__',\n",
              " '__reduce_ex__',\n",
              " '__repr__',\n",
              " '__setattr__',\n",
              " '__sizeof__',\n",
              " '__str__',\n",
              " '__subclasshook__',\n",
              " '__weakref__',\n",
              " 'numero']"
            ]
          },
          "metadata": {},
          "execution_count": 5
        }
      ]
    },
    {
      "cell_type": "code",
      "source": [
        "conta1234.__saldo = 1000"
      ],
      "metadata": {
        "id": "EEV6b-z0tsPN"
      },
      "execution_count": null,
      "outputs": []
    },
    {
      "cell_type": "code",
      "source": [
        "conta1234._Conta__saldo"
      ],
      "metadata": {
        "colab": {
          "base_uri": "https://localhost:8080/"
        },
        "id": "3kCOOiaEtucG",
        "outputId": "381a68b0-40c7-4fbe-96b8-230ad07650a6"
      },
      "execution_count": null,
      "outputs": [
        {
          "output_type": "execute_result",
          "data": {
            "text/plain": [
              "750.84"
            ]
          },
          "metadata": {},
          "execution_count": 7
        }
      ]
    },
    {
      "cell_type": "code",
      "source": [
        "dir(conta1234)"
      ],
      "metadata": {
        "colab": {
          "base_uri": "https://localhost:8080/"
        },
        "id": "yl0aAaJZtxOv",
        "outputId": "536fd774-55e9-44f0-bc0e-f0210d97b597"
      },
      "execution_count": null,
      "outputs": [
        {
          "output_type": "execute_result",
          "data": {
            "text/plain": [
              "['_Conta__saldo',\n",
              " '__class__',\n",
              " '__delattr__',\n",
              " '__dict__',\n",
              " '__dir__',\n",
              " '__doc__',\n",
              " '__eq__',\n",
              " '__format__',\n",
              " '__ge__',\n",
              " '__getattribute__',\n",
              " '__gt__',\n",
              " '__hash__',\n",
              " '__init__',\n",
              " '__init_subclass__',\n",
              " '__le__',\n",
              " '__lt__',\n",
              " '__module__',\n",
              " '__ne__',\n",
              " '__new__',\n",
              " '__reduce__',\n",
              " '__reduce_ex__',\n",
              " '__repr__',\n",
              " '__saldo',\n",
              " '__setattr__',\n",
              " '__sizeof__',\n",
              " '__str__',\n",
              " '__subclasshook__',\n",
              " '__weakref__',\n",
              " 'numero']"
            ]
          },
          "metadata": {},
          "execution_count": 8
        }
      ]
    },
    {
      "cell_type": "code",
      "source": [
        "class Conta:\n",
        "\n",
        "    def __init__(self, numero, saldo):\n",
        "        self.__numero = numero\n",
        "        self.__saldo = saldo\n",
        "\n",
        "    def consulta_saldo(self):\n",
        "        return self.__saldo\n",
        "\n",
        "conta1234 = Conta(1234, 750.84)\n",
        "conta1234.consulta_saldo()"
      ],
      "metadata": {
        "colab": {
          "base_uri": "https://localhost:8080/"
        },
        "id": "4n21jdWjt7lA",
        "outputId": "fbe4688d-34d2-4f09-cc28-4214441febcf"
      },
      "execution_count": null,
      "outputs": [
        {
          "output_type": "execute_result",
          "data": {
            "text/plain": [
              "750.84"
            ]
          },
          "metadata": {},
          "execution_count": 13
        }
      ]
    },
    {
      "cell_type": "markdown",
      "source": [
        "## Herança"
      ],
      "metadata": {
        "id": "EDgokm7Iuz9r"
      }
    },
    {
      "cell_type": "code",
      "source": [
        "# Classe Pessoa\n",
        "class Pessoa:\n",
        "\n",
        "    def __init__(self, nome, login, senha):\n",
        "        self.__nome = nome\n",
        "        self.__login = login\n",
        "        self.__senha = senha\n",
        "\n",
        "    def consulta_nome(self):\n",
        "        return self.__nome\n",
        "\n",
        "# Classe Aluno\n",
        "class Aluno(Pessoa):\n",
        "\n",
        "    def __init__(self, nome, login, senha, curso):\n",
        "        Pessoa.__init__(self, nome, login, senha)\n",
        "        self.__curso = curso\n",
        "\n",
        "    def consulta_curso(self):\n",
        "        return self.__curso\n",
        "\n",
        "# Classe Professor\n",
        "class Professor(Pessoa):\n",
        "\n",
        "    def __init__(self, nome, login, senha, titulacao):\n",
        "        Pessoa.__init__(self, nome, login, senha)\n",
        "        self.__titulacao = titulacao\n",
        "\n",
        "    def consulta_titulacao(self):\n",
        "        return self.__titulacao"
      ],
      "metadata": {
        "id": "SDMJT6CzuzGn"
      },
      "execution_count": null,
      "outputs": []
    },
    {
      "cell_type": "code",
      "source": [
        "pessoa1 = Pessoa('Maria', 'mary', 'm123')\n",
        "print(pessoa1.consulta_nome())\n",
        "\n",
        "aluna1 = Aluno('Viviane', 'vivi', 'v123', 'Informática') \n",
        "print(aluna1.consulta_nome())\n",
        "print(aluna1.consulta_curso())\n",
        "\n",
        "prof1 = Professor('Tatiana', 'tati', 't123', 'Doutorado')\n",
        "print(prof1.consulta_nome())\n",
        "print(prof1.consulta_titulacao())"
      ],
      "metadata": {
        "colab": {
          "base_uri": "https://localhost:8080/"
        },
        "id": "uyI37OpHvTDH",
        "outputId": "9242ae0d-f7ad-4edb-e77f-430aa567e7b1"
      },
      "execution_count": null,
      "outputs": [
        {
          "output_type": "stream",
          "name": "stdout",
          "text": [
            "Maria\n",
            "Viviane\n",
            "Informática\n",
            "Tatiana\n",
            "Doutorado\n"
          ]
        }
      ]
    },
    {
      "cell_type": "markdown",
      "source": [
        "## Polimorfismo"
      ],
      "metadata": {
        "id": "47lxBkR3wGIH"
      }
    },
    {
      "cell_type": "code",
      "source": [
        "class EntradaUniversidade:\n",
        "\n",
        "    def __init__(self):\n",
        "        pass\n",
        "\n",
        "    def permite_entrada(self, pessoa):\n",
        "        print(\"Pode entrar, \" + pessoa.consulta_nome())\n",
        "\n",
        "entrada = EntradaUniversidade()\n",
        "entrada.permite_entrada(prof1)"
      ],
      "metadata": {
        "colab": {
          "base_uri": "https://localhost:8080/"
        },
        "id": "zxmVKF3KwHua",
        "outputId": "8a1f92a2-e4bd-4419-ea5f-35dac0f5a594"
      },
      "execution_count": null,
      "outputs": [
        {
          "output_type": "stream",
          "name": "stdout",
          "text": [
            "Pode entrar, Tatiana\n"
          ]
        }
      ]
    },
    {
      "cell_type": "code",
      "source": [
        "# Classe Coordenador\n",
        "class Coordenador(Pessoa):\n",
        "    def __init__(self, nome, login, senha):\n",
        "        Pessoa.__init__(self, nome, login, senha)\n",
        "\n",
        "coord1 = Coordenador('Marcos', 'mk', 'm123')\n",
        "entrada.permite_entrada(coord1)"
      ],
      "metadata": {
        "colab": {
          "base_uri": "https://localhost:8080/"
        },
        "id": "LvfgwoEIwdhb",
        "outputId": "2bec684b-ca31-4272-f646-3d75270eb2d0"
      },
      "execution_count": null,
      "outputs": [
        {
          "output_type": "stream",
          "name": "stdout",
          "text": [
            "Pode entrar, Marcos\n"
          ]
        }
      ]
    },
    {
      "cell_type": "markdown",
      "source": [
        "## Abstração"
      ],
      "metadata": {
        "id": "E-lratgzyBTy"
      }
    },
    {
      "cell_type": "code",
      "source": [
        "import abc\n",
        "\n",
        "class Pessoa(abc.ABC):\n",
        "\n",
        "    def __init__(self, nome, login, senha):\n",
        "        self.nome = nome\n",
        "        self.login = login\n",
        "        self.senha = senha\n",
        "\n",
        "    @abc.abstractmethod\n",
        "    def consulta_nome(self):\n",
        "        raise NotImplementedError()"
      ],
      "metadata": {
        "id": "tgXHAVGFyBbV"
      },
      "execution_count": null,
      "outputs": []
    },
    {
      "cell_type": "code",
      "source": [
        "pessoa1 = Pessoa()"
      ],
      "metadata": {
        "colab": {
          "base_uri": "https://localhost:8080/",
          "height": 166
        },
        "id": "MChVWhgfyGK2",
        "outputId": "05a1de12-0069-4a74-ef39-97088ff49fd5"
      },
      "execution_count": null,
      "outputs": [
        {
          "output_type": "error",
          "ename": "TypeError",
          "evalue": "ignored",
          "traceback": [
            "\u001b[0;31m---------------------------------------------------------------------------\u001b[0m",
            "\u001b[0;31mTypeError\u001b[0m                                 Traceback (most recent call last)",
            "\u001b[0;32m<ipython-input-23-c8c545d518e4>\u001b[0m in \u001b[0;36m<module>\u001b[0;34m()\u001b[0m\n\u001b[0;32m----> 1\u001b[0;31m \u001b[0mpessoa1\u001b[0m \u001b[0;34m=\u001b[0m \u001b[0mPessoa\u001b[0m\u001b[0;34m(\u001b[0m\u001b[0;34m)\u001b[0m\u001b[0;34m\u001b[0m\u001b[0;34m\u001b[0m\u001b[0m\n\u001b[0m",
            "\u001b[0;31mTypeError\u001b[0m: Can't instantiate abstract class Pessoa with abstract methods consulta_nome"
          ]
        }
      ]
    },
    {
      "cell_type": "markdown",
      "source": [
        "## Associação, Agregação e Composição"
      ],
      "metadata": {
        "id": "87vKonSmyJ2E"
      }
    },
    {
      "cell_type": "code",
      "source": [
        "class Aluno(Pessoa):\n",
        "    \n",
        "    def __init__(self, nome, login, senha, curso, orientador):\n",
        "        Pessoa.__init__(self, nome, login, senha)\n",
        "        self.__curso = curso\n",
        "        self.__orientador = orientador\n",
        "    \n",
        "    def consulta_curso(self):\n",
        "        return self.__curso\n",
        "    \n",
        "    def consulta_orientador(self):\n",
        "        return self.__orientador\n",
        "    \n",
        "    def consulta_nome(self):\n",
        "        return self.nome"
      ],
      "metadata": {
        "id": "mXI6wibJyJ8l"
      },
      "execution_count": null,
      "outputs": []
    },
    {
      "cell_type": "code",
      "source": [
        "professorMarcos = Professor('Marcos', 'mk', 'm123', 'Doutor')\n",
        "\n",
        "novoAluno = Aluno('Isabela', 'isa', 'i123', 'Engenharia', professorMarcos)"
      ],
      "metadata": {
        "id": "HxPambyVyPUA"
      },
      "execution_count": null,
      "outputs": []
    },
    {
      "cell_type": "code",
      "source": [
        "import datetime\n",
        "\n",
        "class Historico():\n",
        "\n",
        "    def __init__(self):\n",
        "        self.__data_matricula = datetime.datetime.today()\n",
        "        self.__ocorrencias = []\n",
        "\n",
        "    def imprime(self):\n",
        "        print(\"Matriculado em {}\".format(self.__data_matricula))\n",
        "        print(\"Ocorrências:\")\n",
        "        for o in self.__ocorrencias:\n",
        "            print(\"- \", o)\n",
        "            \n",
        "    def add_ocorrencia(self, ocorrencia):\n",
        "        self.__ocorrencias.append(ocorrencia)"
      ],
      "metadata": {
        "id": "jUQeOllYydyu"
      },
      "execution_count": null,
      "outputs": []
    },
    {
      "cell_type": "code",
      "source": [
        "class Aluno(Pessoa):\n",
        "\n",
        "    def __init__(self, nome, login, senha, curso, orientador):\n",
        "        Pessoa.__init__(self, nome, login, senha)\n",
        "        self.__curso = curso\n",
        "        self.__orientador = orientador\n",
        "        self.__historico = Historico()\n",
        "\n",
        "    def consulta_curso(self):\n",
        "        return self.__curso\n",
        "\n",
        "    def consulta_orientador(self):\n",
        "        return self.__orientador\n",
        "\n",
        "    def consulta_nome(self):\n",
        "        return self.__nome\n",
        "\n",
        "    def gera_ocorrencia(self, ocorrencia):\n",
        "        self.__historico.add_ocorrencia(ocorrencia)\n",
        "        \n",
        "    def consulta_historico(self):\n",
        "        self.__historico.imprime()"
      ],
      "metadata": {
        "id": "CSZRYxDHyzAS"
      },
      "execution_count": null,
      "outputs": []
    },
    {
      "cell_type": "code",
      "source": [
        "novoAluno = Aluno('Isabela', 'isa', 'i123', 'Engenharia', professorMarcos)\n",
        "novoAluno.gera_ocorrencia(\"Matriculou-se em Calculo 1\")\n",
        "novoAluno.gera_ocorrencia(\"Nota final de Calculo 1: 9,7\")\n",
        "novoAluno.consulta_historico()"
      ],
      "metadata": {
        "colab": {
          "base_uri": "https://localhost:8080/"
        },
        "id": "E32xMVEDzLER",
        "outputId": "979d8a2f-cf2f-4507-9be0-3016914383e9"
      },
      "execution_count": null,
      "outputs": [
        {
          "output_type": "stream",
          "name": "stdout",
          "text": [
            "Matriculado em 2022-08-15 00:09:15.158225\n",
            "Ocorrências:\n",
            "-  Matriculou-se em Calculo 1\n",
            "-  Nota final de Calculo 1: 9,7\n"
          ]
        }
      ]
    }
  ]
}